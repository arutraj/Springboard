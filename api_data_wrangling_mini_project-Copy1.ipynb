{
 "cells": [
  {
   "cell_type": "markdown",
   "metadata": {},
   "source": [
    "This exercise will require you to pull some data from the Qunadl API. Qaundl is currently the most widely used aggregator of financial market data."
   ]
  },
  {
   "cell_type": "markdown",
   "metadata": {},
   "source": [
    "As a first step, you will need to register a free account on the http://www.quandl.com website."
   ]
  },
  {
   "cell_type": "markdown",
   "metadata": {},
   "source": [
    "After you register, you will be provided with a unique API key, that you should store:"
   ]
  },
  {
   "cell_type": "code",
   "execution_count": 11,
   "metadata": {},
   "outputs": [],
   "source": [
    "# Store the API key as a string - according to PEP8, constants are always named in all upper case\n",
    "API_KEY = '8F4u-pRdtQsDCn-fuBZh'"
   ]
  },
  {
   "cell_type": "markdown",
   "metadata": {},
   "source": [
    "Qaundl has a large number of data sources, but, unfortunately, most of them require a Premium subscription. Still, there are also a good number of free datasets."
   ]
  },
  {
   "cell_type": "markdown",
   "metadata": {},
   "source": [
    "For this mini project, we will focus on equities data from the Frankfurt Stock Exhange (FSE), which is available for free. We'll try and analyze the stock prices of a company called Carl Zeiss Meditec, which manufactures tools for eye examinations, as well as medical lasers for laser eye surgery: https://www.zeiss.com/meditec/int/home.html. The company is listed under the stock ticker AFX_X."
   ]
  },
  {
   "cell_type": "markdown",
   "metadata": {},
   "source": [
    "You can find the detailed Quandl API instructions here: https://docs.quandl.com/docs/time-series"
   ]
  },
  {
   "cell_type": "markdown",
   "metadata": {},
   "source": [
    "While there is a dedicated Python package for connecting to the Quandl API, we would prefer that you use the *requests* package, which can be easily downloaded using *pip* or *conda*. You can find the documentation for the package here: http://docs.python-requests.org/en/master/ "
   ]
  },
  {
   "cell_type": "markdown",
   "metadata": {},
   "source": [
    "Finally, apart from the *requests* package, you are encouraged to not use any third party Python packages, such as *pandas*, and instead focus on what's available in the Python Standard Library (the *collections* module might come in handy: https://pymotw.com/3/collections/).\n",
    "Also, since you won't have access to DataFrames, you are encouraged to us Python's native data structures - preferably dictionaries, though some questions can also be answered using lists.\n",
    "You can read more on these data structures here: https://docs.python.org/3/tutorial/datastructures.html"
   ]
  },
  {
   "cell_type": "markdown",
   "metadata": {},
   "source": [
    "Keep in mind that the JSON responses you will be getting from the API map almost one-to-one to Python's dictionaries. Unfortunately, they can be very nested, so make sure you read up on indexing dictionaries in the documentation provided above."
   ]
  },
  {
   "cell_type": "code",
   "execution_count": 12,
   "metadata": {},
   "outputs": [],
   "source": [
    "# First, import the relevant modules\n",
    "import requests\n",
    "import collections\n",
    "mydata = requests.get(\"https://www.quandl.com/api/v3/datasets/FSE/AFX_X/data.json?api_key=8F4u-pRdtQsDCn-fuBZh\")"
   ]
  },
  {
   "cell_type": "code",
   "execution_count": 13,
   "metadata": {},
   "outputs": [
    {
     "data": {
      "text/plain": [
       "['2018-10-04',\n",
       " None,\n",
       " 72.4,\n",
       " 70.65,\n",
       " 71.1,\n",
       " None,\n",
       " 170698.0,\n",
       " 12183209.0,\n",
       " None,\n",
       " None,\n",
       " None]"
      ]
     },
     "execution_count": 13,
     "metadata": {},
     "output_type": "execute_result"
    }
   ],
   "source": [
    "# Now, call the Quandl API and pull out a small sample of the data (only one day) to get a glimpse\n",
    "# into the JSON structure that will be returned\n",
    "mydata.json()['dataset_data']['data'][1]"
   ]
  },
  {
   "cell_type": "code",
   "execution_count": 26,
   "metadata": {},
   "outputs": [],
   "source": [
    "# Inspect the JSON structure of the object you created, and take note of how nested it is,\n",
    "# as well as the overall structure\n"
   ]
  },
  {
   "cell_type": "markdown",
   "metadata": {},
   "source": [
    "These are your tasks for this mini project:\n",
    "\n",
    "1. Collect data from the Franfurt Stock Exchange, for the ticker AFX_X, for the whole year 2017 (keep in mind that the date format is YYYY-MM-DD).\n",
    "2. Convert the returned JSON object into a Python dictionary.\n",
    "3. Calculate what the highest and lowest opening prices were for the stock in this period.\n",
    "4. What was the largest change in any one day (based on High and Low price)?\n",
    "5. What was the largest change between any two days (based on Closing Price)?\n",
    "6. What was the average daily trading volume during this year?\n",
    "7. (Optional) What was the median trading volume during this year. (Note: you may need to implement your own function for calculating the median.)"
   ]
  },
  {
   "cell_type": "code",
   "execution_count": 86,
   "metadata": {},
   "outputs": [],
   "source": [
    "# 1\n",
    "mydata = requests.get(\"https://www.quandl.com/api/v3/datasets/FSE/AFX_X.json?&start_date=2017-01-01&end_date=2017-12-31&collapse=monthly&transform=diff&api_key=8F4u-pRdtQsDCn-fuBZh\")"
   ]
  },
  {
   "cell_type": "code",
   "execution_count": 87,
   "metadata": {},
   "outputs": [
    {
     "data": {
      "text/plain": [
       "dict"
      ]
     },
     "execution_count": 87,
     "metadata": {},
     "output_type": "execute_result"
    }
   ],
   "source": [
    "# 2\n",
    "mydata = mydata.json()\n",
    "type(mydata)"
   ]
  },
  {
   "cell_type": "code",
   "execution_count": 88,
   "metadata": {},
   "outputs": [
    {
     "name": "stdout",
     "output_type": "stream",
     "text": [
      "{'dataset': {'id': 10095370, 'dataset_code': 'AFX_X', 'database_code': 'FSE', 'name': 'Carl Zeiss Meditec (AFX_X)', 'description': 'Stock Prices for Carl Zeiss Meditec (AFX) from the Frankfurt Stock Exchange.<br><br>Trading System: Xetra<br><br>ISIN: DE0005313704', 'refreshed_at': '2018-10-05T22:28:07.059Z', 'newest_available_date': '2018-10-05', 'oldest_available_date': '2000-06-07', 'column_names': ['Date', 'Open', 'High', 'Low', 'Close', 'Change', 'Traded Volume', 'Turnover', 'Last Price of the Day', 'Daily Traded Units', 'Daily Turnover'], 'frequency': 'daily', 'type': 'Time Series', 'premium': False, 'limit': None, 'transform': 'diff', 'column_index': None, 'start_date': '2017-01-01', 'end_date': '2017-12-31', 'data': [['2017-12-31', 3.12, 2.1, 3.17, 2.06, None, -88379.0, -4292867.0, None, None, None], ['2017-11-30', 2.11, 3.19, 2.67, 3.94, None, 66774.0, 3499774.0, None, None, None], ['2017-10-31', 2.95, 2.48, 2.31, 1.59, None, -43576.0, -1799399.0, None, None, None], ['2017-09-30', 1.58, 2.09, 2.18, 2.27, None, -58067.0, -2195404.0, None, None, None], ['2017-08-31', -2.94, -3.67, -3.82, -3.4, None, 95216.0, 3735990.0, None, None, None], ['2017-07-31', -0.07, 0.009999999999998, -0.060000000000002, -0.14, None, -73440.0, -3342938.0, None, None, None], ['2017-06-30', -0.21, -0.52, -0.22, -0.42, None, 135590.0, 6163104.0, None, None, None], ['2017-05-31', 3.05, 4.01, 3.56, 4.14, None, -85826.0, -3582545.0, None, None, None], ['2017-04-30', 2.4, 2.18, 2.24, 1.74, None, -9034.0, -188472.0, None, None, None], ['2017-03-31', -0.61, -0.88, -0.96, -0.86000000000001, None, 27942.0, 1048050.0, None, None, None], ['2017-02-28', 5.14, 5.71, 5.82, 6.28, None, 4069.0, 547428.0, None, None, None]], 'collapse': 'monthly', 'order': None, 'database_id': 6129}}\n"
     ]
    }
   ],
   "source": [
    "print(mydata)"
   ]
  },
  {
   "cell_type": "code",
   "execution_count": 89,
   "metadata": {},
   "outputs": [
    {
     "data": {
      "text/plain": [
       "{0: OrderedDict([('Date', '2017-12-31'),\n",
       "              ('Open', 3.12),\n",
       "              ('High', 2.1),\n",
       "              ('Low', 3.17),\n",
       "              ('Close', 2.06),\n",
       "              ('Change', None),\n",
       "              ('Traded Volume', -88379.0),\n",
       "              ('Turnover', -4292867.0),\n",
       "              ('Last Price of the Day', None),\n",
       "              ('Daily Traded Units', None),\n",
       "              ('Daily Turnover', None)]),\n",
       " 1: OrderedDict([('Date', '2017-11-30'),\n",
       "              ('Open', 2.11),\n",
       "              ('High', 3.19),\n",
       "              ('Low', 2.67),\n",
       "              ('Close', 3.94),\n",
       "              ('Change', None),\n",
       "              ('Traded Volume', 66774.0),\n",
       "              ('Turnover', 3499774.0),\n",
       "              ('Last Price of the Day', None),\n",
       "              ('Daily Traded Units', None),\n",
       "              ('Daily Turnover', None)]),\n",
       " 2: OrderedDict([('Date', '2017-10-31'),\n",
       "              ('Open', 2.95),\n",
       "              ('High', 2.48),\n",
       "              ('Low', 2.31),\n",
       "              ('Close', 1.59),\n",
       "              ('Change', None),\n",
       "              ('Traded Volume', -43576.0),\n",
       "              ('Turnover', -1799399.0),\n",
       "              ('Last Price of the Day', None),\n",
       "              ('Daily Traded Units', None),\n",
       "              ('Daily Turnover', None)]),\n",
       " 3: OrderedDict([('Date', '2017-09-30'),\n",
       "              ('Open', 1.58),\n",
       "              ('High', 2.09),\n",
       "              ('Low', 2.18),\n",
       "              ('Close', 2.27),\n",
       "              ('Change', None),\n",
       "              ('Traded Volume', -58067.0),\n",
       "              ('Turnover', -2195404.0),\n",
       "              ('Last Price of the Day', None),\n",
       "              ('Daily Traded Units', None),\n",
       "              ('Daily Turnover', None)]),\n",
       " 4: OrderedDict([('Date', '2017-08-31'),\n",
       "              ('Open', -2.94),\n",
       "              ('High', -3.67),\n",
       "              ('Low', -3.82),\n",
       "              ('Close', -3.4),\n",
       "              ('Change', None),\n",
       "              ('Traded Volume', 95216.0),\n",
       "              ('Turnover', 3735990.0),\n",
       "              ('Last Price of the Day', None),\n",
       "              ('Daily Traded Units', None),\n",
       "              ('Daily Turnover', None)]),\n",
       " 5: OrderedDict([('Date', '2017-07-31'),\n",
       "              ('Open', -0.07),\n",
       "              ('High', 0.009999999999998),\n",
       "              ('Low', -0.060000000000002),\n",
       "              ('Close', -0.14),\n",
       "              ('Change', None),\n",
       "              ('Traded Volume', -73440.0),\n",
       "              ('Turnover', -3342938.0),\n",
       "              ('Last Price of the Day', None),\n",
       "              ('Daily Traded Units', None),\n",
       "              ('Daily Turnover', None)]),\n",
       " 6: OrderedDict([('Date', '2017-06-30'),\n",
       "              ('Open', -0.21),\n",
       "              ('High', -0.52),\n",
       "              ('Low', -0.22),\n",
       "              ('Close', -0.42),\n",
       "              ('Change', None),\n",
       "              ('Traded Volume', 135590.0),\n",
       "              ('Turnover', 6163104.0),\n",
       "              ('Last Price of the Day', None),\n",
       "              ('Daily Traded Units', None),\n",
       "              ('Daily Turnover', None)]),\n",
       " 7: OrderedDict([('Date', '2017-05-31'),\n",
       "              ('Open', 3.05),\n",
       "              ('High', 4.01),\n",
       "              ('Low', 3.56),\n",
       "              ('Close', 4.14),\n",
       "              ('Change', None),\n",
       "              ('Traded Volume', -85826.0),\n",
       "              ('Turnover', -3582545.0),\n",
       "              ('Last Price of the Day', None),\n",
       "              ('Daily Traded Units', None),\n",
       "              ('Daily Turnover', None)]),\n",
       " 8: OrderedDict([('Date', '2017-04-30'),\n",
       "              ('Open', 2.4),\n",
       "              ('High', 2.18),\n",
       "              ('Low', 2.24),\n",
       "              ('Close', 1.74),\n",
       "              ('Change', None),\n",
       "              ('Traded Volume', -9034.0),\n",
       "              ('Turnover', -188472.0),\n",
       "              ('Last Price of the Day', None),\n",
       "              ('Daily Traded Units', None),\n",
       "              ('Daily Turnover', None)]),\n",
       " 9: OrderedDict([('Date', '2017-03-31'),\n",
       "              ('Open', -0.61),\n",
       "              ('High', -0.88),\n",
       "              ('Low', -0.96),\n",
       "              ('Close', -0.86000000000001),\n",
       "              ('Change', None),\n",
       "              ('Traded Volume', 27942.0),\n",
       "              ('Turnover', 1048050.0),\n",
       "              ('Last Price of the Day', None),\n",
       "              ('Daily Traded Units', None),\n",
       "              ('Daily Turnover', None)]),\n",
       " 10: OrderedDict([('Date', '2017-02-28'),\n",
       "              ('Open', 5.14),\n",
       "              ('High', 5.71),\n",
       "              ('Low', 5.82),\n",
       "              ('Close', 6.28),\n",
       "              ('Change', None),\n",
       "              ('Traded Volume', 4069.0),\n",
       "              ('Turnover', 547428.0),\n",
       "              ('Last Price of the Day', None),\n",
       "              ('Daily Traded Units', None),\n",
       "              ('Daily Turnover', None)])}"
      ]
     },
     "execution_count": 89,
     "metadata": {},
     "output_type": "execute_result"
    }
   ],
   "source": [
    "# 3   Calculate what the highest and lowest opening prices were for the stock in this period.\n",
    "#  Dictionary of col namees mapped to values\n",
    "colnames= mydata['dataset']['column_names']\n",
    "dlist= mydata['dataset']['data']\n",
    "\n",
    "mydata_dict={}\n",
    "for num in range(len(dlist)):\n",
    "    mydata_dict[num] = collections.OrderedDict(zip(colnames,dlist[num]))\n",
    "    \n",
    "mydata_dict "
   ]
  },
  {
   "cell_type": "code",
   "execution_count": 90,
   "metadata": {},
   "outputs": [
    {
     "name": "stdout",
     "output_type": "stream",
     "text": [
      "Highest Opening Price: $ 5.14\n",
      "Lowest Opening Price: $ -2.94\n"
     ]
    }
   ],
   "source": [
    "# list of all opening prices\n",
    "Opening_prices = [mydata_dict[num]['Open'] for num in mydata_dict] \n",
    "print('Highest Opening Price: $', max(Opening_prices))\n",
    "print('Lowest Opening Price: $', min(Opening_prices))"
   ]
  },
  {
   "cell_type": "code",
   "execution_count": 91,
   "metadata": {},
   "outputs": [
    {
     "name": "stdout",
     "output_type": "stream",
     "text": [
      "largest change in any one day;  0.52\n"
     ]
    }
   ],
   "source": [
    "# 4 What was the largest change in any one day (based on High and Low price)?\n",
    "high_prices = [mydata_dict[num]['High'] for num in mydata_dict]\n",
    "low_prices = [mydata_dict[num]['Low'] for num in mydata_dict]\n",
    "\n",
    "change_in_day = [high-low for high, low in zip(high_prices, low_prices)]\n",
    "print('largest change in any one day; ', max(change_in_day))"
   ]
  },
  {
   "cell_type": "code",
   "execution_count": 92,
   "metadata": {},
   "outputs": [
    {
     "name": "stdout",
     "output_type": "stream",
     "text": [
      "Largest change between two days : 7.14000000000001\n"
     ]
    }
   ],
   "source": [
    "# 5 What was the largest change between any two days (based on Closing Price)?\n",
    "closing_price = [mydata_dict[num]['Close'] for num in mydata_dict]\n",
    "closing_between_days = [day2-day1 for day1, day2 in zip(closing_price[1:], closing_price[:-1])]\n",
    "largest_change = max(map(abs,closing_between_days))\n",
    "#\n",
    "print('Largest change between two days :', largest_change)"
   ]
  },
  {
   "cell_type": "code",
   "execution_count": 93,
   "metadata": {},
   "outputs": [
    {
     "name": "stdout",
     "output_type": "stream",
     "text": [
      "average daily trading volume : 62537.545454545456\n"
     ]
    }
   ],
   "source": [
    "# 6 What was the average daily trading volume (dtv) during this year?\n",
    "dtv = [mydata_dict[num]['Traded Volume'] for num in mydata_dict]\n",
    "dtv_len = len(dtv)\n",
    "dtv_abs = map(abs,dtv)\n",
    "\n",
    "dtv_avg = sum(dtv_abs)/dtv_len\n",
    "\n",
    "print('average daily trading volume :', dtv_avg)"
   ]
  },
  {
   "cell_type": "code",
   "execution_count": 94,
   "metadata": {},
   "outputs": [
    {
     "name": "stdout",
     "output_type": "stream",
     "text": [
      "median trading volume : -73440.0\n"
     ]
    }
   ],
   "source": [
    "# 7 (Optional) What was the median trading volume during this year.\n",
    "import math\n",
    "\n",
    "def median_calc(num_list):\n",
    "    if len(num_list)%2 == 0: \n",
    "        ' no median for even numbers'\n",
    "    else:\n",
    "        mdn=math.floor(len(num_list)/2)\n",
    "    return num_list[mdn]\n",
    "\n",
    "print('median trading volume :', median_calc(dtv))"
   ]
  },
  {
   "cell_type": "code",
   "execution_count": null,
   "metadata": {},
   "outputs": [],
   "source": []
  }
 ],
 "metadata": {
  "kernelspec": {
   "display_name": "Python 3",
   "language": "python",
   "name": "python3"
  },
  "language_info": {
   "codemirror_mode": {
    "name": "ipython",
    "version": 3
   },
   "file_extension": ".py",
   "mimetype": "text/x-python",
   "name": "python",
   "nbconvert_exporter": "python",
   "pygments_lexer": "ipython3",
   "version": "3.6.4"
  }
 },
 "nbformat": 4,
 "nbformat_minor": 2
}
