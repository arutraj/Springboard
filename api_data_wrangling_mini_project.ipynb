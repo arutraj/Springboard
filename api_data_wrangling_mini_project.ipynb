{
 "cells": [
  {
   "cell_type": "markdown",
   "metadata": {},
   "source": [
    "This exercise will require you to pull some data from the Qunadl API. Qaundl is currently the most widely used aggregator of financial market data."
   ]
  },
  {
   "cell_type": "markdown",
   "metadata": {},
   "source": [
    "As a first step, you will need to register a free account on the http://www.quandl.com website."
   ]
  },
  {
   "cell_type": "markdown",
   "metadata": {},
   "source": [
    "After you register, you will be provided with a unique API key, that you should store:"
   ]
  },
  {
   "cell_type": "code",
   "execution_count": null,
   "metadata": {
    "collapsed": true
   },
   "outputs": [],
   "source": [
    "# Store the API key as a string - according to PEP8, constants are always named in all upper case\n",
    "API_KEY = '8F4u-pRdtQsDCn-fuBZh'"
   ]
  },
  {
   "cell_type": "markdown",
   "metadata": {},
   "source": [
    "Qaundl has a large number of data sources, but, unfortunately, most of them require a Premium subscription. Still, there are also a good number of free datasets."
   ]
  },
  {
   "cell_type": "markdown",
   "metadata": {},
   "source": [
    "For this mini project, we will focus on equities data from the Frankfurt Stock Exhange (FSE), which is available for free. We'll try and analyze the stock prices of a company called Carl Zeiss Meditec, which manufactures tools for eye examinations, as well as medical lasers for laser eye surgery: https://www.zeiss.com/meditec/int/home.html. The company is listed under the stock ticker AFX_X."
   ]
  },
  {
   "cell_type": "markdown",
   "metadata": {},
   "source": [
    "You can find the detailed Quandl API instructions here: https://docs.quandl.com/docs/time-series"
   ]
  },
  {
   "cell_type": "markdown",
   "metadata": {},
   "source": [
    "While there is a dedicated Python package for connecting to the Quandl API, we would prefer that you use the *requests* package, which can be easily downloaded using *pip* or *conda*. You can find the documentation for the package here: http://docs.python-requests.org/en/master/ "
   ]
  },
  {
   "cell_type": "markdown",
   "metadata": {},
   "source": [
    "Finally, apart from the *requests* package, you are encouraged to not use any third party Python packages, such as *pandas*, and instead focus on what's available in the Python Standard Library (the *collections* module might come in handy: https://pymotw.com/3/collections/).\n",
    "Also, since you won't have access to DataFrames, you are encouraged to us Python's native data structures - preferably dictionaries, though some questions can also be answered using lists.\n",
    "You can read more on these data structures here: https://docs.python.org/3/tutorial/datastructures.html"
   ]
  },
  {
   "cell_type": "markdown",
   "metadata": {},
   "source": [
    "Keep in mind that the JSON responses you will be getting from the API map almost one-to-one to Python's dictionaries. Unfortunately, they can be very nested, so make sure you read up on indexing dictionaries in the documentation provided above."
   ]
  },
  {
   "cell_type": "code",
   "execution_count": 35,
   "metadata": {},
   "outputs": [],
   "source": [
    "# First, import the relevant modules\n",
    "import requests\n",
    "import collections\n",
    "mydata = requests.get(\"https://www.quandl.com/api/v3/datasets/FSE/AFX_X/data.json?api_key=8F4u-pRdtQsDCn-fuBZh\")"
   ]
  },
  {
   "cell_type": "code",
   "execution_count": 36,
   "metadata": {},
   "outputs": [
    {
     "data": {
      "text/plain": [
       "['2018-10-04',\n",
       " None,\n",
       " 72.4,\n",
       " 70.65,\n",
       " 71.1,\n",
       " None,\n",
       " 170698.0,\n",
       " 12183209.0,\n",
       " None,\n",
       " None,\n",
       " None]"
      ]
     },
     "execution_count": 36,
     "metadata": {},
     "output_type": "execute_result"
    }
   ],
   "source": [
    "# Now, call the Quandl API and pull out a small sample of the data (only one day) to get a glimpse\n",
    "# into the JSON structure that will be returned\n",
    "mydata.json()['dataset_data']['data'][1]"
   ]
  },
  {
   "cell_type": "code",
   "execution_count": 37,
   "metadata": {},
   "outputs": [],
   "source": [
    "# Inspect the JSON structure of the object you created, and take note of how nested it is,\n",
    "# as well as the overall structure\n"
   ]
  },
  {
   "cell_type": "markdown",
   "metadata": {},
   "source": [
    "These are your tasks for this mini project:\n",
    "\n",
    "1. Collect data from the Franfurt Stock Exchange, for the ticker AFX_X, for the whole year 2017 (keep in mind that the date format is YYYY-MM-DD).\n",
    "2. Convert the returned JSON object into a Python dictionary.\n",
    "3. Calculate what the highest and lowest opening prices were for the stock in this period.\n",
    "4. What was the largest change in any one day (based on High and Low price)?\n",
    "5. What was the largest change between any two days (based on Closing Price)?\n",
    "6. What was the average daily trading volume during this year?\n",
    "7. (Optional) What was the median trading volume during this year. (Note: you may need to implement your own function for calculating the median.)"
   ]
  },
  {
   "cell_type": "code",
   "execution_count": 38,
   "metadata": {},
   "outputs": [],
   "source": [
    "# 1\n",
    "mydata = requests.get(\"https://www.quandl.com/api/v3/datasets/FSE/AFX_X.json?&start_date=2017-01-01&end_date=2017-12-31&collapse=monthly&transform=rdiff&api_key=8F4u-pRdtQsDCn-fuBZh\")"
   ]
  },
  {
   "cell_type": "code",
   "execution_count": 39,
   "metadata": {},
   "outputs": [
    {
     "data": {
      "text/plain": [
       "dict"
      ]
     },
     "execution_count": 39,
     "metadata": {},
     "output_type": "execute_result"
    }
   ],
   "source": [
    "# 2\n",
    "mydata = mydata.json()\n",
    "type(mydata)"
   ]
  },
  {
   "cell_type": "code",
   "execution_count": 29,
   "metadata": {},
   "outputs": [
    {
     "name": "stdout",
     "output_type": "stream",
     "text": [
      "{'dataset': {'id': 10095370, 'dataset_code': 'AFX_X', 'database_code': 'FSE', 'name': 'Carl Zeiss Meditec (AFX_X)', 'description': 'Stock Prices for Carl Zeiss Meditec (AFX) from the Frankfurt Stock Exchange.<br><br>Trading System: Xetra<br><br>ISIN: DE0005313704', 'refreshed_at': '2018-10-05T22:28:07.059Z', 'newest_available_date': '2018-10-05', 'oldest_available_date': '2000-06-07', 'column_names': ['Date', 'Open', 'High', 'Low', 'Close', 'Change', 'Traded Volume', 'Turnover', 'Last Price of the Day', 'Daily Traded Units', 'Daily Turnover'], 'frequency': 'daily', 'type': 'Time Series', 'premium': False, 'limit': None, 'transform': 'rdiff', 'column_index': None, 'start_date': '2017-01-01', 'end_date': '2017-12-31', 'data': [['2017-12-31', 0.064144736842105, 0.042134831460674, 0.065658657829329, 0.041448692152917, None, -0.71841748022663, -0.70546365911492, None, None, None], ['2017-11-30', 0.045347087900279, 0.068381564844588, 0.058539793904846, 0.086101398601399, None, 1.1871988621211, 1.3536698619206, None, None, None], ['2017-10-31', 0.067691601652134, 0.056146705908988, 0.053348729792148, 0.035997283223908, None, -0.43654140912233, -0.41037234115339, None, None, None], ['2017-09-30', 0.037619047619048, 0.049667300380228, 0.053015564202335, 0.05417661097852, None, -0.36777335832996, -0.33363788334701, None, None, None], ['2017-08-31', -0.065420560747664, -0.080218579234973, -0.085002225189141, -0.075055187637969, None, 1.519274955323, 1.3135422489901, None, None, None], ['2017-07-31', -0.0015552099533437, 0.00021862702229991, -0.0013333333333334, -0.003080985915493, None, -0.53955566004467, -0.54030354534917, None, None, None], ['2017-06-30', -0.0046439628482972, -0.011240812797233, -0.0048651039363113, -0.0091583078935892, None, 259.75095785441, 256.32606887373, None, None, None], ['2017-05-31', 0.072326298316339, 0.09491124260355, 0.085453672587614, 0.099232981783317, None, -0.9939546949553, -0.99333331300018, None, None, None], ['2017-04-30', 0.06034699522253, 0.054404791614674, 0.056823947234906, 0.04352176088044, None, -0.094713887316265, -0.049662442843475, None, None, None], ['2017-03-31', -0.015106488360575, -0.021489621489622, -0.023774145616642, -0.02105778648384, None, 0.41432384341637, 0.38152377256589, None, None, None], ['2017-02-28', 0.14585698070375, 0.16203178206583, 0.16840277777778, 0.18171296296296, None, 0.064209180855596, 0.24887808280024, None, None, None]], 'collapse': 'monthly', 'order': None, 'database_id': 6129}}\n"
     ]
    }
   ],
   "source": [
    "print(mydata)"
   ]
  },
  {
   "cell_type": "code",
   "execution_count": 42,
   "metadata": {},
   "outputs": [
    {
     "data": {
      "text/plain": [
       "{0: OrderedDict([('Date', '2017-12-31'),\n",
       "              ('Open', 0.064144736842105),\n",
       "              ('High', 0.042134831460674),\n",
       "              ('Low', 0.065658657829329),\n",
       "              ('Close', 0.041448692152917),\n",
       "              ('Change', None),\n",
       "              ('Traded Volume', -0.71841748022663),\n",
       "              ('Turnover', -0.70546365911492),\n",
       "              ('Last Price of the Day', None),\n",
       "              ('Daily Traded Units', None),\n",
       "              ('Daily Turnover', None)]),\n",
       " 1: OrderedDict([('Date', '2017-11-30'),\n",
       "              ('Open', 0.045347087900279),\n",
       "              ('High', 0.068381564844588),\n",
       "              ('Low', 0.058539793904846),\n",
       "              ('Close', 0.086101398601399),\n",
       "              ('Change', None),\n",
       "              ('Traded Volume', 1.1871988621211),\n",
       "              ('Turnover', 1.3536698619206),\n",
       "              ('Last Price of the Day', None),\n",
       "              ('Daily Traded Units', None),\n",
       "              ('Daily Turnover', None)]),\n",
       " 2: OrderedDict([('Date', '2017-10-31'),\n",
       "              ('Open', 0.067691601652134),\n",
       "              ('High', 0.056146705908988),\n",
       "              ('Low', 0.053348729792148),\n",
       "              ('Close', 0.035997283223908),\n",
       "              ('Change', None),\n",
       "              ('Traded Volume', -0.43654140912233),\n",
       "              ('Turnover', -0.41037234115339),\n",
       "              ('Last Price of the Day', None),\n",
       "              ('Daily Traded Units', None),\n",
       "              ('Daily Turnover', None)]),\n",
       " 3: OrderedDict([('Date', '2017-09-30'),\n",
       "              ('Open', 0.037619047619048),\n",
       "              ('High', 0.049667300380228),\n",
       "              ('Low', 0.053015564202335),\n",
       "              ('Close', 0.05417661097852),\n",
       "              ('Change', None),\n",
       "              ('Traded Volume', -0.36777335832996),\n",
       "              ('Turnover', -0.33363788334701),\n",
       "              ('Last Price of the Day', None),\n",
       "              ('Daily Traded Units', None),\n",
       "              ('Daily Turnover', None)]),\n",
       " 4: OrderedDict([('Date', '2017-08-31'),\n",
       "              ('Open', -0.065420560747664),\n",
       "              ('High', -0.080218579234973),\n",
       "              ('Low', -0.085002225189141),\n",
       "              ('Close', -0.075055187637969),\n",
       "              ('Change', None),\n",
       "              ('Traded Volume', 1.519274955323),\n",
       "              ('Turnover', 1.3135422489901),\n",
       "              ('Last Price of the Day', None),\n",
       "              ('Daily Traded Units', None),\n",
       "              ('Daily Turnover', None)]),\n",
       " 5: OrderedDict([('Date', '2017-07-31'),\n",
       "              ('Open', -0.0015552099533437),\n",
       "              ('High', 0.00021862702229991),\n",
       "              ('Low', -0.0013333333333334),\n",
       "              ('Close', -0.003080985915493),\n",
       "              ('Change', None),\n",
       "              ('Traded Volume', -0.53955566004467),\n",
       "              ('Turnover', -0.54030354534917),\n",
       "              ('Last Price of the Day', None),\n",
       "              ('Daily Traded Units', None),\n",
       "              ('Daily Turnover', None)]),\n",
       " 6: OrderedDict([('Date', '2017-06-30'),\n",
       "              ('Open', -0.0046439628482972),\n",
       "              ('High', -0.011240812797233),\n",
       "              ('Low', -0.0048651039363113),\n",
       "              ('Close', -0.0091583078935892),\n",
       "              ('Change', None),\n",
       "              ('Traded Volume', 259.75095785441),\n",
       "              ('Turnover', 256.32606887373),\n",
       "              ('Last Price of the Day', None),\n",
       "              ('Daily Traded Units', None),\n",
       "              ('Daily Turnover', None)]),\n",
       " 7: OrderedDict([('Date', '2017-05-31'),\n",
       "              ('Open', 0.072326298316339),\n",
       "              ('High', 0.09491124260355),\n",
       "              ('Low', 0.085453672587614),\n",
       "              ('Close', 0.099232981783317),\n",
       "              ('Change', None),\n",
       "              ('Traded Volume', -0.9939546949553),\n",
       "              ('Turnover', -0.99333331300018),\n",
       "              ('Last Price of the Day', None),\n",
       "              ('Daily Traded Units', None),\n",
       "              ('Daily Turnover', None)]),\n",
       " 8: OrderedDict([('Date', '2017-04-30'),\n",
       "              ('Open', 0.06034699522253),\n",
       "              ('High', 0.054404791614674),\n",
       "              ('Low', 0.056823947234906),\n",
       "              ('Close', 0.04352176088044),\n",
       "              ('Change', None),\n",
       "              ('Traded Volume', -0.094713887316265),\n",
       "              ('Turnover', -0.049662442843475),\n",
       "              ('Last Price of the Day', None),\n",
       "              ('Daily Traded Units', None),\n",
       "              ('Daily Turnover', None)]),\n",
       " 9: OrderedDict([('Date', '2017-03-31'),\n",
       "              ('Open', -0.015106488360575),\n",
       "              ('High', -0.021489621489622),\n",
       "              ('Low', -0.023774145616642),\n",
       "              ('Close', -0.02105778648384),\n",
       "              ('Change', None),\n",
       "              ('Traded Volume', 0.41432384341637),\n",
       "              ('Turnover', 0.38152377256589),\n",
       "              ('Last Price of the Day', None),\n",
       "              ('Daily Traded Units', None),\n",
       "              ('Daily Turnover', None)]),\n",
       " 10: OrderedDict([('Date', '2017-02-28'),\n",
       "              ('Open', 0.14585698070375),\n",
       "              ('High', 0.16203178206583),\n",
       "              ('Low', 0.16840277777778),\n",
       "              ('Close', 0.18171296296296),\n",
       "              ('Change', None),\n",
       "              ('Traded Volume', 0.064209180855596),\n",
       "              ('Turnover', 0.24887808280024),\n",
       "              ('Last Price of the Day', None),\n",
       "              ('Daily Traded Units', None),\n",
       "              ('Daily Turnover', None)])}"
      ]
     },
     "execution_count": 42,
     "metadata": {},
     "output_type": "execute_result"
    }
   ],
   "source": [
    "# 3   Calculate what the highest and lowest opening prices were for the stock in this period.\n",
    "#  Dictionary of col namees mapped to values\n",
    "colnames= mydata['dataset']['column_names']\n",
    "dlist= mydata['dataset']['data']\n",
    "\n",
    "mydata_dict={}\n",
    "for num in range(len(dlist)):\n",
    "    mydata_dict[num] = collections.OrderedDict(zip(colnames,dlist[num]))\n",
    "    \n",
    "mydata_dict "
   ]
  },
  {
   "cell_type": "code",
   "execution_count": 44,
   "metadata": {},
   "outputs": [
    {
     "name": "stdout",
     "output_type": "stream",
     "text": [
      "Highest Opening Price: $ 0.14585698070375\n",
      "Lowest Opening Price: $ -0.065420560747664\n"
     ]
    }
   ],
   "source": [
    "# list of all opening prices\n",
    "Opening_prices = [mydata_dict[num]['Open'] for num in mydata_dict] \n",
    "print('Highest Opening Price: $', max(Opening_prices))\n",
    "print('Lowest Opening Price: $', min(Opening_prices))"
   ]
  },
  {
   "cell_type": "code",
   "execution_count": 49,
   "metadata": {},
   "outputs": [
    {
     "name": "stdout",
     "output_type": "stream",
     "text": [
      "largest change in any one day;  0.009841770939742\n"
     ]
    }
   ],
   "source": [
    "# 4 What was the largest change in any one day (based on High and Low price)?\n",
    "high_prices = [mydata_dict[num]['High'] for num in mydata_dict]\n",
    "low_prices = [mydata_dict[num]['Low'] for num in mydata_dict]\n",
    "\n",
    "change_in_day = [high-low for high, low in zip(high_prices, low_prices)]\n",
    "print('largest change in any one day; ', max(change_in_day))"
   ]
  },
  {
   "cell_type": "code",
   "execution_count": 50,
   "metadata": {},
   "outputs": [
    {
     "name": "stdout",
     "output_type": "stream",
     "text": [
      "Largest change between two days : 0.20277074944679999\n"
     ]
    }
   ],
   "source": [
    "# 5 What was the largest change between any two days (based on Closing Price)?\n",
    "closing_price = [mydata_dict[num]['Close'] for num in mydata_dict]\n",
    "closing_between_days = [day2-day1 for day1, day2 in zip(closing_price[1:], closing_price[:-1])]\n",
    "largest_change = max(map(abs,closing_between_days))\n",
    "#\n",
    "print('Largest change between two days :', largest_change)"
   ]
  },
  {
   "cell_type": "code",
   "execution_count": 52,
   "metadata": {},
   "outputs": [
    {
     "name": "stdout",
     "output_type": "stream",
     "text": [
      "average daily trading volume : 24.1897201078292\n"
     ]
    }
   ],
   "source": [
    "# 6 What was the average daily trading volume (dtv) during this year?\n",
    "dtv = [mydata_dict[num]['Traded Volume'] for num in mydata_dict]\n",
    "dtv_len = len(dtv)\n",
    "dtv_abs = map(abs,dtv)\n",
    "\n",
    "dtv_avg = sum(dtv_abs)/dtv_len\n",
    "\n",
    "print('average daily trading volume :', dtv_avg)"
   ]
  },
  {
   "cell_type": "code",
   "execution_count": 56,
   "metadata": {},
   "outputs": [
    {
     "name": "stdout",
     "output_type": "stream",
     "text": [
      "median trading volume : -0.53955566004467\n"
     ]
    }
   ],
   "source": [
    "# 7 (Optional) What was the median trading volume during this year.\n",
    "import math\n",
    "\n",
    "def median_calc(num_list):\n",
    "    if len(num_list)%2 == 0: \n",
    "        ' no median for even numbers'\n",
    "    else:\n",
    "        mdn=math.floor(len(num_list)/2)\n",
    "    return num_list[mdn]\n",
    "\n",
    "print('median trading volume :', median_calc(dtv))"
   ]
  },
  {
   "cell_type": "code",
   "execution_count": null,
   "metadata": {},
   "outputs": [],
   "source": []
  }
 ],
 "metadata": {
  "kernelspec": {
   "display_name": "Python 3",
   "language": "python",
   "name": "python3"
  },
  "language_info": {
   "codemirror_mode": {
    "name": "ipython",
    "version": 3
   },
   "file_extension": ".py",
   "mimetype": "text/x-python",
   "name": "python",
   "nbconvert_exporter": "python",
   "pygments_lexer": "ipython3",
   "version": "3.6.4"
  }
 },
 "nbformat": 4,
 "nbformat_minor": 2
}
